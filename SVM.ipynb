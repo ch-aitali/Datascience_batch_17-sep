{
  "nbformat": 4,
  "nbformat_minor": 0,
  "metadata": {
    "kernelspec": {
      "display_name": "Python 3",
      "language": "python",
      "name": "python3"
    },
    "language_info": {
      "codemirror_mode": {
        "name": "ipython",
        "version": 3
      },
      "file_extension": ".py",
      "mimetype": "text/x-python",
      "name": "python",
      "nbconvert_exporter": "python",
      "pygments_lexer": "ipython3",
      "version": "3.7.4"
    },
    "colab": {
      "name": "SVM.ipynb",
      "provenance": [],
      "include_colab_link": true
    }
  },
  "cells": [
    {
      "cell_type": "markdown",
      "metadata": {
        "id": "view-in-github",
        "colab_type": "text"
      },
      "source": [
        "<a href=\"https://colab.research.google.com/github/ch-aitali/Datascience_batch_17-sep/blob/main/SVM.ipynb\" target=\"_parent\"><img src=\"https://colab.research.google.com/assets/colab-badge.svg\" alt=\"Open In Colab\"/></a>"
      ]
    },
    {
      "cell_type": "code",
      "metadata": {
        "id": "5xwrt1BSIkUA"
      },
      "source": [
        "# SVM Classification\n",
        "import pandas as pd\n",
        "import numpy as np\n",
        "#from sklearn.feature_extraction.text import CountVectorizer, TfidfVectorizer\n",
        "from sklearn.preprocessing import StandardScaler\n",
        "\n",
        "from sklearn import svm\n",
        "from sklearn.svm import SVC\n",
        "from sklearn.model_selection import GridSearchCV\n",
        "from sklearn.metrics import classification_report\n",
        "\n",
        "\n",
        "from sklearn.metrics import accuracy_score, confusion_matrix\n",
        "from sklearn.model_selection import train_test_split, cross_val_score\n",
        "\n"
      ],
      "execution_count": 1,
      "outputs": []
    },
    {
      "cell_type": "markdown",
      "metadata": {
        "id": "sSNH7LUcODAt"
      },
      "source": [
        ""
      ]
    },
    {
      "cell_type": "code",
      "metadata": {
        "id": "KI9oR3DgIkUI"
      },
      "source": [
        "filename = 'pima-indians-diabetes.data.csv'\n",
        "names = ['preg', 'plas', 'pres', 'skin', 'test', 'mass', 'pedi', 'age', 'class']\n",
        "dataframe = pd.read_csv(filename, names=names)\n",
        "array = dataframe.values\n",
        "X = array[:,0:8]\n",
        "Y = array[:,8]"
      ],
      "execution_count": 2,
      "outputs": []
    },
    {
      "cell_type": "code",
      "metadata": {
        "id": "fy50QCTuIkUI"
      },
      "source": [
        "X_train, X_test, y_train, y_test = train_test_split(X,Y, test_size = 0.3)"
      ],
      "execution_count": 3,
      "outputs": []
    },
    {
      "cell_type": "code",
      "metadata": {
        "id": "OySV4I1pIkUJ",
        "colab": {
          "base_uri": "https://localhost:8080/"
        },
        "outputId": "95a6fd41-9b5f-4ea5-8621-f5e744234c09"
      },
      "source": [
        "X_train.shape, y_train.shape, X_test.shape, y_test.shape"
      ],
      "execution_count": 4,
      "outputs": [
        {
          "output_type": "execute_result",
          "data": {
            "text/plain": [
              "((537, 8), (537,), (231, 8), (231,))"
            ]
          },
          "metadata": {},
          "execution_count": 4
        }
      ]
    },
    {
      "cell_type": "markdown",
      "metadata": {
        "id": "VejCDqsUIkUN"
      },
      "source": [
        "### Grid Search CV"
      ]
    },
    {
      "cell_type": "code",
      "metadata": {
        "id": "gkkgo8vuIkUO",
        "colab": {
          "base_uri": "https://localhost:8080/"
        },
        "outputId": "6523f0d9-5b7a-4cf9-9c27-70c72dffd141"
      },
      "source": [
        "clf = SVC()\n",
        "param_grid = [{'kernel':['rbf'],'gamma':[0.5,0.1,0.01],'C':[10,0.1,0.001,0.0001] }]\n",
        "gsv = GridSearchCV(clf,param_grid,cv=10)\n",
        "gsv.fit(X_train,y_train)"
      ],
      "execution_count": 5,
      "outputs": [
        {
          "output_type": "execute_result",
          "data": {
            "text/plain": [
              "GridSearchCV(cv=10, error_score=nan,\n",
              "             estimator=SVC(C=1.0, break_ties=False, cache_size=200,\n",
              "                           class_weight=None, coef0=0.0,\n",
              "                           decision_function_shape='ovr', degree=3,\n",
              "                           gamma='scale', kernel='rbf', max_iter=-1,\n",
              "                           probability=False, random_state=None, shrinking=True,\n",
              "                           tol=0.001, verbose=False),\n",
              "             iid='deprecated', n_jobs=None,\n",
              "             param_grid=[{'C': [10, 0.1, 0.001, 0.0001],\n",
              "                          'gamma': [0.5, 0.1, 0.01], 'kernel': ['rbf']}],\n",
              "             pre_dispatch='2*n_jobs', refit=True, return_train_score=False,\n",
              "             scoring=None, verbose=0)"
            ]
          },
          "metadata": {},
          "execution_count": 5
        }
      ]
    },
    {
      "cell_type": "code",
      "metadata": {
        "id": "FPu2_mX6IkUO",
        "colab": {
          "base_uri": "https://localhost:8080/"
        },
        "outputId": "9b470eff-32df-4563-8c0f-c28dffe682dd"
      },
      "source": [
        "gsv.best_params_ , gsv.best_score_ "
      ],
      "execution_count": 6,
      "outputs": [
        {
          "output_type": "execute_result",
          "data": {
            "text/plain": [
              "({'C': 10, 'gamma': 0.5, 'kernel': 'rbf'}, 0.6555206149545771)"
            ]
          },
          "metadata": {},
          "execution_count": 6
        }
      ]
    },
    {
      "cell_type": "code",
      "metadata": {
        "id": "BLG9jTv7IkUP",
        "colab": {
          "base_uri": "https://localhost:8080/"
        },
        "outputId": "f45da08f-cc9c-40fc-a44a-55f50ae005b8"
      },
      "source": [
        "clf = SVC(C= 15, gamma = 100)\n",
        "clf.fit(X_train , y_train)\n",
        "y_pred = clf.predict(X_test)\n",
        "acc = accuracy_score(y_test, y_pred) * 100\n",
        "print(\"Accuracy =\", acc)\n",
        "confusion_matrix(y_test, y_pred)"
      ],
      "execution_count": 7,
      "outputs": [
        {
          "output_type": "stream",
          "name": "stdout",
          "text": [
            "Accuracy = 64.06926406926407\n"
          ]
        },
        {
          "output_type": "execute_result",
          "data": {
            "text/plain": [
              "array([[148,   0],\n",
              "       [ 83,   0]])"
            ]
          },
          "metadata": {},
          "execution_count": 7
        }
      ]
    },
    {
      "cell_type": "code",
      "metadata": {
        "id": "Rrr1faDc49Lv"
      },
      "source": [
        ""
      ],
      "execution_count": null,
      "outputs": []
    }
  ]
}